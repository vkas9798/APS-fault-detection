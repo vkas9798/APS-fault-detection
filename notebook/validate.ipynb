{
 "cells": [
  {
   "cell_type": "code",
   "execution_count": 2,
   "metadata": {},
   "outputs": [],
   "source": [
    "import numpy as np\n",
    "from scipy import stats\n",
    "rng = np.random.default_rng()\n",
    "target1 = stats.uniform.rvs(size=100, random_state=rng)\n",
    "target2 = stats.norm.rvs(size=110, random_state=rng)\n",
    "response = stats.ks_2samp(target1, target2)"
   ]
  },
  {
   "cell_type": "code",
   "execution_count": 3,
   "metadata": {},
   "outputs": [
    {
     "data": {
      "text/plain": [
       "array([0.49833159, 0.11289582, 0.06557973, 0.49153092, 0.16233622,\n",
       "       0.02953796, 0.31353087, 0.81800521, 0.75089299, 0.21071076,\n",
       "       0.94987244, 0.03622129, 0.39416627, 0.69141165, 0.90610368,\n",
       "       0.08496429, 0.47227671, 0.72207813, 0.37452144, 0.6526086 ,\n",
       "       0.93297261, 0.42075181, 0.98272507, 0.67181785, 0.85821298,\n",
       "       0.49927354, 0.04955876, 0.92499349, 0.18112756, 0.49658216,\n",
       "       0.13681495, 0.43961153, 0.08041911, 0.03864543, 0.47053795,\n",
       "       0.92372313, 0.79636358, 0.49211295, 0.9345368 , 0.1187051 ,\n",
       "       0.5781973 , 0.2571723 , 0.59730444, 0.59672007, 0.53547857,\n",
       "       0.99424311, 0.57600522, 0.8656587 , 0.78018185, 0.29864428,\n",
       "       0.0414231 , 0.46084302, 0.96404941, 0.10492432, 0.39821455,\n",
       "       0.79713613, 0.28272278, 0.41886647, 0.80394328, 0.76142426,\n",
       "       0.15557175, 0.34701472, 0.59673504, 0.86444636, 0.19587789,\n",
       "       0.76273031, 0.88121858, 0.03757357, 0.27677584, 0.69307498,\n",
       "       0.25962417, 0.88551705, 0.01797003, 0.11925296, 0.96331633,\n",
       "       0.00263721, 0.01293529, 0.24496527, 0.87707622, 0.29707385,\n",
       "       0.29771482, 0.50811269, 0.80154229, 0.44952898, 0.37598584,\n",
       "       0.83307759, 0.98595375, 0.60066909, 0.66733307, 0.98957915,\n",
       "       0.50086662, 0.68498982, 0.54360468, 0.86538354, 0.04405939,\n",
       "       0.08946799, 0.33981781, 0.42239372, 0.05190925, 0.3250257 ])"
      ]
     },
     "execution_count": 3,
     "metadata": {},
     "output_type": "execute_result"
    }
   ],
   "source": [
    "target1"
   ]
  },
  {
   "cell_type": "code",
   "execution_count": 4,
   "metadata": {},
   "outputs": [
    {
     "data": {
      "text/plain": [
       "array([ 0.55291163,  0.10257511,  0.55477588, -0.12513108,  0.29876797,\n",
       "        3.13823977, -1.37073717, -1.56246857, -0.4459703 ,  1.11264946,\n",
       "        0.48724225,  1.23590865,  1.01636335, -0.34618445, -0.02040044,\n",
       "       -0.26597703, -0.60022529, -0.43719051, -2.29149544, -0.19238734,\n",
       "       -0.98032103, -0.40675029, -0.74191796, -0.06903479,  0.25628309,\n",
       "       -0.20300426, -0.24937833,  0.72236226,  0.46512768, -0.97161924,\n",
       "       -0.80945966,  0.27313611, -1.13261441,  1.48708815,  0.37254414,\n",
       "       -0.14694373,  0.7751566 , -0.45311663, -0.88823128, -1.63045388,\n",
       "        1.87338173,  1.15936612,  1.19688209, -1.3166944 , -0.86999346,\n",
       "       -1.90086063,  0.24629061,  0.32138768, -1.49440546, -1.26686399,\n",
       "        0.08822871,  0.10126826, -0.13814165,  0.38363464,  0.92554232,\n",
       "        0.24574871, -1.39722491, -0.12580401, -0.07495778, -1.83234975,\n",
       "       -1.83701419, -0.40237036,  1.80727141, -1.87689962, -0.19612092,\n",
       "       -0.4740786 , -0.27448701,  0.02703063,  2.51824303,  1.4979394 ,\n",
       "       -1.25384424,  0.064477  , -0.19453199,  0.01438318,  0.80757775,\n",
       "       -0.52153772, -0.48644176, -0.22655692, -1.53257082,  0.62339042,\n",
       "        0.58821512, -1.30131933,  0.34813567,  0.01567999,  0.67075482,\n",
       "        1.05180803,  0.42228703, -0.84216235,  2.36262341, -0.35795393,\n",
       "       -2.16186518,  0.93404048,  0.69809788, -0.16430058,  1.72119944,\n",
       "        1.12027547,  0.46811049,  0.27169753, -0.14143739, -1.12260585,\n",
       "       -1.53104679,  0.74213724,  2.04560148,  0.10357059, -0.86246097,\n",
       "       -1.08804058,  1.16649261, -0.16303873, -0.52169734, -1.34467549])"
      ]
     },
     "execution_count": 4,
     "metadata": {},
     "output_type": "execute_result"
    }
   ],
   "source": [
    "target2"
   ]
  },
  {
   "cell_type": "code",
   "execution_count": 11,
   "metadata": {},
   "outputs": [
    {
     "data": {
      "text/plain": [
       "1.46225e-11"
      ]
     },
     "execution_count": 11,
     "metadata": {},
     "output_type": "execute_result"
    }
   ],
   "source": [
    "round(response.pvalue,16)"
   ]
  },
  {
   "cell_type": "code",
   "execution_count": null,
   "metadata": {},
   "outputs": [],
   "source": [
    "#Anomly in my dataset\n",
    "# \n",
    "# 1.High Null Value\n",
    "2. Missing COlumns\n",
    "3. Outlier\n",
    "4. Categorical: \n",
    "Gender--> MALE, FEMALE,OTHER\n"
   ]
  },
  {
   "cell_type": "code",
   "execution_count": 1,
   "metadata": {},
   "outputs": [],
   "source": [
    "import pandas as pd"
   ]
  },
  {
   "cell_type": "code",
   "execution_count": 15,
   "metadata": {},
   "outputs": [
    {
     "name": "stdout",
     "output_type": "stream",
     "text": [
      "1 4\n",
      "2 5\n",
      "3 6\n",
      "4 7\n"
     ]
    }
   ],
   "source": [
    "l1=[1,2,3,4]\n",
    "l2=[4,5,6,7]\n",
    "\n",
    "for l1_val,l2_val in zip(l1,l2):\n",
    "    print(l1_val,l2_val)"
   ]
  },
  {
   "cell_type": "code",
   "execution_count": 9,
   "metadata": {},
   "outputs": [],
   "source": [
    "import pandas as pd\n",
    "df = pd.read_csv(\"/config/workspace/artifact/12312022__224328/data_ingestion/dataset/train.csv\")"
   ]
  },
  {
   "cell_type": "code",
   "execution_count": 10,
   "metadata": {},
   "outputs": [
    {
     "data": {
      "text/html": [
       "<div>\n",
       "<style scoped>\n",
       "    .dataframe tbody tr th:only-of-type {\n",
       "        vertical-align: middle;\n",
       "    }\n",
       "\n",
       "    .dataframe tbody tr th {\n",
       "        vertical-align: top;\n",
       "    }\n",
       "\n",
       "    .dataframe thead th {\n",
       "        text-align: right;\n",
       "    }\n",
       "</style>\n",
       "<table border=\"1\" class=\"dataframe\">\n",
       "  <thead>\n",
       "    <tr style=\"text-align: right;\">\n",
       "      <th></th>\n",
       "      <th>class</th>\n",
       "      <th>aa_000</th>\n",
       "      <th>ab_000</th>\n",
       "      <th>ac_000</th>\n",
       "      <th>ad_000</th>\n",
       "      <th>ae_000</th>\n",
       "      <th>af_000</th>\n",
       "      <th>ag_000</th>\n",
       "      <th>ag_001</th>\n",
       "      <th>ag_002</th>\n",
       "      <th>...</th>\n",
       "      <th>ee_002</th>\n",
       "      <th>ee_003</th>\n",
       "      <th>ee_004</th>\n",
       "      <th>ee_005</th>\n",
       "      <th>ee_006</th>\n",
       "      <th>ee_007</th>\n",
       "      <th>ee_008</th>\n",
       "      <th>ee_009</th>\n",
       "      <th>ef_000</th>\n",
       "      <th>eg_000</th>\n",
       "    </tr>\n",
       "  </thead>\n",
       "  <tbody>\n",
       "    <tr>\n",
       "      <th>3257</th>\n",
       "      <td>neg</td>\n",
       "      <td>34</td>\n",
       "      <td>NaN</td>\n",
       "      <td>36.0</td>\n",
       "      <td>36.0</td>\n",
       "      <td>2.0</td>\n",
       "      <td>2.0</td>\n",
       "      <td>0.0</td>\n",
       "      <td>0.0</td>\n",
       "      <td>0.0</td>\n",
       "      <td>...</td>\n",
       "      <td>490.0</td>\n",
       "      <td>126.0</td>\n",
       "      <td>126.0</td>\n",
       "      <td>98.0</td>\n",
       "      <td>20.0</td>\n",
       "      <td>8.0</td>\n",
       "      <td>0.0</td>\n",
       "      <td>0.0</td>\n",
       "      <td>0.0</td>\n",
       "      <td>0.0</td>\n",
       "    </tr>\n",
       "    <tr>\n",
       "      <th>19520</th>\n",
       "      <td>neg</td>\n",
       "      <td>89282</td>\n",
       "      <td>0.0</td>\n",
       "      <td>472.0</td>\n",
       "      <td>414.0</td>\n",
       "      <td>0.0</td>\n",
       "      <td>0.0</td>\n",
       "      <td>0.0</td>\n",
       "      <td>0.0</td>\n",
       "      <td>0.0</td>\n",
       "      <td>...</td>\n",
       "      <td>188334.0</td>\n",
       "      <td>52912.0</td>\n",
       "      <td>89164.0</td>\n",
       "      <td>385050.0</td>\n",
       "      <td>249126.0</td>\n",
       "      <td>1113776.0</td>\n",
       "      <td>2228.0</td>\n",
       "      <td>0.0</td>\n",
       "      <td>0.0</td>\n",
       "      <td>0.0</td>\n",
       "    </tr>\n",
       "    <tr>\n",
       "      <th>23348</th>\n",
       "      <td>neg</td>\n",
       "      <td>28582</td>\n",
       "      <td>0.0</td>\n",
       "      <td>284.0</td>\n",
       "      <td>252.0</td>\n",
       "      <td>0.0</td>\n",
       "      <td>0.0</td>\n",
       "      <td>0.0</td>\n",
       "      <td>0.0</td>\n",
       "      <td>0.0</td>\n",
       "      <td>...</td>\n",
       "      <td>100742.0</td>\n",
       "      <td>35424.0</td>\n",
       "      <td>66542.0</td>\n",
       "      <td>175954.0</td>\n",
       "      <td>798082.0</td>\n",
       "      <td>25588.0</td>\n",
       "      <td>7454.0</td>\n",
       "      <td>134.0</td>\n",
       "      <td>0.0</td>\n",
       "      <td>0.0</td>\n",
       "    </tr>\n",
       "    <tr>\n",
       "      <th>2402</th>\n",
       "      <td>pos</td>\n",
       "      <td>1277864</td>\n",
       "      <td>NaN</td>\n",
       "      <td>NaN</td>\n",
       "      <td>NaN</td>\n",
       "      <td>NaN</td>\n",
       "      <td>NaN</td>\n",
       "      <td>0.0</td>\n",
       "      <td>25116.0</td>\n",
       "      <td>533458.0</td>\n",
       "      <td>...</td>\n",
       "      <td>6997138.0</td>\n",
       "      <td>3167662.0</td>\n",
       "      <td>7395116.0</td>\n",
       "      <td>9366984.0</td>\n",
       "      <td>28276990.0</td>\n",
       "      <td>763770.0</td>\n",
       "      <td>125720.0</td>\n",
       "      <td>0.0</td>\n",
       "      <td>NaN</td>\n",
       "      <td>NaN</td>\n",
       "    </tr>\n",
       "    <tr>\n",
       "      <th>5303</th>\n",
       "      <td>neg</td>\n",
       "      <td>14</td>\n",
       "      <td>NaN</td>\n",
       "      <td>32.0</td>\n",
       "      <td>20.0</td>\n",
       "      <td>0.0</td>\n",
       "      <td>0.0</td>\n",
       "      <td>0.0</td>\n",
       "      <td>0.0</td>\n",
       "      <td>0.0</td>\n",
       "      <td>...</td>\n",
       "      <td>322.0</td>\n",
       "      <td>38.0</td>\n",
       "      <td>18.0</td>\n",
       "      <td>4.0</td>\n",
       "      <td>2.0</td>\n",
       "      <td>0.0</td>\n",
       "      <td>0.0</td>\n",
       "      <td>0.0</td>\n",
       "      <td>0.0</td>\n",
       "      <td>0.0</td>\n",
       "    </tr>\n",
       "  </tbody>\n",
       "</table>\n",
       "<p>5 rows × 171 columns</p>\n",
       "</div>"
      ],
      "text/plain": [
       "      class   aa_000  ab_000  ac_000  ad_000  ae_000  af_000  ag_000   ag_001  \\\n",
       "3257    neg       34     NaN    36.0    36.0     2.0     2.0     0.0      0.0   \n",
       "19520   neg    89282     0.0   472.0   414.0     0.0     0.0     0.0      0.0   \n",
       "23348   neg    28582     0.0   284.0   252.0     0.0     0.0     0.0      0.0   \n",
       "2402    pos  1277864     NaN     NaN     NaN     NaN     NaN     0.0  25116.0   \n",
       "5303    neg       14     NaN    32.0    20.0     0.0     0.0     0.0      0.0   \n",
       "\n",
       "         ag_002  ...     ee_002     ee_003     ee_004     ee_005      ee_006  \\\n",
       "3257        0.0  ...      490.0      126.0      126.0       98.0        20.0   \n",
       "19520       0.0  ...   188334.0    52912.0    89164.0   385050.0    249126.0   \n",
       "23348       0.0  ...   100742.0    35424.0    66542.0   175954.0    798082.0   \n",
       "2402   533458.0  ...  6997138.0  3167662.0  7395116.0  9366984.0  28276990.0   \n",
       "5303        0.0  ...      322.0       38.0       18.0        4.0         2.0   \n",
       "\n",
       "          ee_007    ee_008  ee_009  ef_000  eg_000  \n",
       "3257         8.0       0.0     0.0     0.0     0.0  \n",
       "19520  1113776.0    2228.0     0.0     0.0     0.0  \n",
       "23348    25588.0    7454.0   134.0     0.0     0.0  \n",
       "2402    763770.0  125720.0     0.0     NaN     NaN  \n",
       "5303         0.0       0.0     0.0     0.0     0.0  \n",
       "\n",
       "[5 rows x 171 columns]"
      ]
     },
     "execution_count": 10,
     "metadata": {},
     "output_type": "execute_result"
    }
   ],
   "source": [
    "df.sample(5)"
   ]
  },
  {
   "cell_type": "code",
   "execution_count": 11,
   "metadata": {},
   "outputs": [
    {
     "data": {
      "text/plain": [
       "0"
      ]
     },
     "execution_count": 11,
     "metadata": {},
     "output_type": "execute_result"
    }
   ],
   "source": [
    "len(df.iloc[:,[0]].drop(\"class\",axis=1).columns)"
   ]
  },
  {
   "cell_type": "code",
   "execution_count": 28,
   "metadata": {},
   "outputs": [
    {
     "data": {
      "text/plain": [
       "Index(['ab_000', 'bk_000', 'bl_000', 'bm_000', 'bn_000', 'bo_000', 'bp_000',\n",
       "       'bq_000', 'br_000', 'cr_000'],\n",
       "      dtype='object')"
      ]
     },
     "execution_count": 28,
     "metadata": {},
     "output_type": "execute_result"
    }
   ],
   "source": []
  },
  {
   "cell_type": "code",
   "execution_count": 1,
   "metadata": {},
   "outputs": [],
   "source": [
    "from glob import glob"
   ]
  },
  {
   "cell_type": "code",
   "execution_count": 5,
   "metadata": {},
   "outputs": [
    {
     "data": {
      "text/plain": [
       "['/config/workspace/saved_models/1/model/model.pkl']"
      ]
     },
     "execution_count": 5,
     "metadata": {},
     "output_type": "execute_result"
    }
   ],
   "source": [
    "glob(\"/config/workspace/saved_models/1/**/*.pkl\")"
   ]
  },
  {
   "cell_type": "code",
   "execution_count": 7,
   "metadata": {},
   "outputs": [
    {
     "data": {
      "text/plain": [
       "'1'"
      ]
     },
     "execution_count": 7,
     "metadata": {},
     "output_type": "execute_result"
    }
   ],
   "source": [
    "import os\n",
    "\n",
    "os.path.basename(\"saved_mode/1\")"
   ]
  },
  {
   "cell_type": "code",
   "execution_count": null,
   "metadata": {},
   "outputs": [],
   "source": []
  }
 ],
 "metadata": {
  "kernelspec": {
   "display_name": "Python 3.8.10 64-bit",
   "language": "python",
   "name": "python3"
  },
  "language_info": {
   "codemirror_mode": {
    "name": "ipython",
    "version": 3
   },
   "file_extension": ".py",
   "mimetype": "text/x-python",
   "name": "python",
   "nbconvert_exporter": "python",
   "pygments_lexer": "ipython3",
   "version": "3.8.10"
  },
  "orig_nbformat": 4,
  "vscode": {
   "interpreter": {
    "hash": "e7370f93d1d0cde622a1f8e1c04877d8463912d04d973331ad4851f04de6915a"
   }
  }
 },
 "nbformat": 4,
 "nbformat_minor": 2
}
